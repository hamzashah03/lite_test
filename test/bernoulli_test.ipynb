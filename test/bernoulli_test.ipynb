{
 "cells": [
  {
   "cell_type": "code",
   "execution_count": 1,
   "metadata": {},
   "outputs": [],
   "source": [
    "import numpy as np\n",
    "import pandas as pd\n",
    "from scipy.stats import binom\n",
    "\n",
    "import logLikVector\n",
    "\n",
    "from logLikVector import logLikVector\n",
    "from logLikVector import logLikVector_class\n",
    "from logLikVector import logLik\n",
    "\n",
    "import bernoulli\n",
    "\n",
    "from bernoulli import fitBernoulli"
   ]
  },
  {
   "cell_type": "markdown",
   "metadata": {},
   "source": [
    "# Test\n",
    "\n",
    "Comparing the outputs from the python code vs the R package on the cheeseboro wind gusts data"
   ]
  },
  {
   "cell_type": "code",
   "execution_count": 2,
   "metadata": {},
   "outputs": [
    {
     "data": {
      "text/plain": [
       "NoneType"
      ]
     },
     "execution_count": 2,
     "metadata": {},
     "output_type": "execute_result"
    }
   ],
   "source": [
    "# Import csv file (has to be in a pd df)\n",
    "cdataframe = pd.read_csv(\"cheeseboro_data\")\n",
    "\n",
    "# Make into np array\n",
    "cdata = cdataframe.iloc[:,0].to_numpy()\n",
    "u = 45\n",
    "exc = cdata > u\n",
    "\n",
    "# Fit bernoulli distribution\n",
    "fit  = fitBernoulli(exc)\n",
    "\n",
    "# Calculate the log-likelihood at the MLE\n",
    "res = logLikVector(fit)\n",
    "\n",
    "type(res)\n",
    "\n"
   ]
  },
  {
   "cell_type": "markdown",
   "metadata": {},
   "source": [
    "Currently res is being seen as a NoneType because logLikVector_class isn't being recognised as a class??"
   ]
  }
 ],
 "metadata": {
  "kernelspec": {
   "display_name": "Python 3",
   "language": "python",
   "name": "python3"
  },
  "language_info": {
   "codemirror_mode": {
    "name": "ipython",
    "version": 3
   },
   "file_extension": ".py",
   "mimetype": "text/x-python",
   "name": "python",
   "nbconvert_exporter": "python",
   "pygments_lexer": "ipython3",
   "version": "3.9.6"
  }
 },
 "nbformat": 4,
 "nbformat_minor": 2
}
