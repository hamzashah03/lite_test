{
 "cells": [
  {
   "cell_type": "code",
   "execution_count": 1,
   "metadata": {},
   "outputs": [],
   "source": [
    "import numpy as np\n",
    "import pandas as pd\n",
    "from scipy.stats import binom\n",
    "\n",
    "import logLikVector\n",
    "\n",
    "from logLikVector import logLikVector\n",
    "from logLikVector import logLikVec\n",
    "from logLikVector import logLik\n",
    "\n",
    "import bernoulli\n",
    "\n",
    "from bernoulli import fitBernoulli"
   ]
  },
  {
   "cell_type": "markdown",
   "metadata": {},
   "source": [
    "# Test\n",
    "\n",
    "Comparing the outputs from the python code vs the R package on the cheeseboro wind gusts data"
   ]
  },
  {
   "cell_type": "code",
   "execution_count": 11,
   "metadata": {},
   "outputs": [
    {
     "data": {
      "text/plain": [
       "LogLikVector(values=[-207.8939 -207.8939 -207.8939 ... -207.8939 -207.8939 -207.8939], nobs=7398, df=1)"
      ]
     },
     "execution_count": 11,
     "metadata": {},
     "output_type": "execute_result"
    }
   ],
   "source": [
    "# Import csv file (has to be in a pd df)\n",
    "cdataframe = pd.read_csv(\"cheeseboro_data\")\n",
    "\n",
    "# Make into np array\n",
    "cdata = cdataframe.iloc[:,0].to_numpy()\n",
    "u = 45\n",
    "exc = np.where(np.isnan(cdata), np.nan, np.where(cdata > u, 1, 0))\n",
    "\n",
    "# Fit bernoulli distribution\n",
    "fit  = fitBernoulli(exc)\n",
    "\n",
    "# Calculate the log-likelihood at the MLE\n",
    "res = logLikVector(fit)\n",
    "\n",
    "res\n",
    "\n"
   ]
  },
  {
   "cell_type": "code",
   "execution_count": null,
   "metadata": {},
   "outputs": [],
   "source": []
  },
  {
   "cell_type": "markdown",
   "metadata": {},
   "source": [
    "Currently res is being seen as a NoneType because logLikVector_class isn't being recognised as a class??"
   ]
  }
 ],
 "metadata": {
  "kernelspec": {
   "display_name": "Python 3",
   "language": "python",
   "name": "python3"
  },
  "language_info": {
   "codemirror_mode": {
    "name": "ipython",
    "version": 3
   },
   "file_extension": ".py",
   "mimetype": "text/x-python",
   "name": "python",
   "nbconvert_exporter": "python",
   "pygments_lexer": "ipython3",
   "version": "3.9.6"
  }
 },
 "nbformat": 4,
 "nbformat_minor": 2
}
